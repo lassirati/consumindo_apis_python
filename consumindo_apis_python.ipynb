{
 "cells": [
  {
   "cell_type": "code",
   "execution_count": 1,
   "id": "2261f655-2ff5-413e-a6f2-bb3ef9f06689",
   "metadata": {},
   "outputs": [],
   "source": [
    "## instalando lib requests\n",
    "# pip install requests"
   ]
  },
  {
   "cell_type": "code",
   "execution_count": 2,
   "id": "ca3bebe9-27ee-45a3-a16c-ba65092894f2",
   "metadata": {},
   "outputs": [],
   "source": [
    "import requests"
   ]
  },
  {
   "cell_type": "code",
   "execution_count": 3,
   "id": "9c3886c6-031a-4726-8fd8-1a77fed0dc5c",
   "metadata": {},
   "outputs": [],
   "source": [
    "## site para testar requests\n",
    "# https://reqres.in/\n",
    "# usamos o SINGLE USER no exemplo"
   ]
  },
  {
   "cell_type": "code",
   "execution_count": 4,
   "id": "433abd0d-f14b-49b9-81ce-e1aeda09190a",
   "metadata": {},
   "outputs": [],
   "source": [
    "r = requests.get('https://reqres.in/api/users/2')"
   ]
  },
  {
   "cell_type": "code",
   "execution_count": 5,
   "id": "d1e9b094-7c2f-4bdf-9662-f6850118d5af",
   "metadata": {},
   "outputs": [],
   "source": [
    "# ao imprimir r vemos que funcionou (status 200 --> sucesso)"
   ]
  },
  {
   "cell_type": "code",
   "execution_count": 6,
   "id": "cd244206-4ef3-40f8-a657-be643ec658f2",
   "metadata": {},
   "outputs": [
    {
     "data": {
      "text/plain": [
       "<Response [200]>"
      ]
     },
     "execution_count": 6,
     "metadata": {},
     "output_type": "execute_result"
    }
   ],
   "source": [
    "r"
   ]
  },
  {
   "cell_type": "code",
   "execution_count": 7,
   "id": "22106676-872a-42d4-beba-2fc1c19dd756",
   "metadata": {},
   "outputs": [],
   "source": [
    "## para ver o que chegou podemos usar .text"
   ]
  },
  {
   "cell_type": "code",
   "execution_count": 8,
   "id": "9e47b8e4-4b4f-45b3-bba9-4938c51877d3",
   "metadata": {},
   "outputs": [
    {
     "data": {
      "text/plain": [
       "'{\"data\":{\"id\":2,\"email\":\"janet.weaver@reqres.in\",\"first_name\":\"Janet\",\"last_name\":\"Weaver\",\"avatar\":\"https://reqres.in/img/faces/2-image.jpg\"},\"support\":{\"url\":\"https://reqres.in/#support-heading\",\"text\":\"To keep ReqRes free, contributions towards server costs are appreciated!\"}}'"
      ]
     },
     "execution_count": 8,
     "metadata": {},
     "output_type": "execute_result"
    }
   ],
   "source": [
    "r.text"
   ]
  },
  {
   "cell_type": "code",
   "execution_count": 9,
   "id": "66bfb1e2-51a4-4f4d-a2f0-84e69455c96d",
   "metadata": {},
   "outputs": [],
   "source": [
    "## para ver melhor podemos usar .json() para ver formatado"
   ]
  },
  {
   "cell_type": "code",
   "execution_count": 10,
   "id": "1f84d750-ff64-45c2-a042-13e6bf1b3768",
   "metadata": {},
   "outputs": [
    {
     "data": {
      "text/plain": [
       "{'data': {'id': 2,\n",
       "  'email': 'janet.weaver@reqres.in',\n",
       "  'first_name': 'Janet',\n",
       "  'last_name': 'Weaver',\n",
       "  'avatar': 'https://reqres.in/img/faces/2-image.jpg'},\n",
       " 'support': {'url': 'https://reqres.in/#support-heading',\n",
       "  'text': 'To keep ReqRes free, contributions towards server costs are appreciated!'}}"
      ]
     },
     "execution_count": 10,
     "metadata": {},
     "output_type": "execute_result"
    }
   ],
   "source": [
    "r.json()"
   ]
  },
  {
   "cell_type": "code",
   "execution_count": 11,
   "id": "85dfdc20-e1c2-4465-a33d-1c475e43cd04",
   "metadata": {},
   "outputs": [],
   "source": [
    "# podemos explorar esse json acessando seus campos"
   ]
  },
  {
   "cell_type": "code",
   "execution_count": 12,
   "id": "24984ca5-1d33-49ca-b1bb-ad992624a489",
   "metadata": {},
   "outputs": [
    {
     "data": {
      "text/plain": [
       "'Janet'"
      ]
     },
     "execution_count": 12,
     "metadata": {},
     "output_type": "execute_result"
    }
   ],
   "source": [
    "# atribuimos a uma var\n",
    "json_data = r.json()\n",
    "\n",
    "# consultamos o campo first_name\n",
    "json_data['data']['first_name']"
   ]
  },
  {
   "cell_type": "code",
   "execution_count": 13,
   "id": "4f53e6b5-8c30-41f9-a20e-560acedf6ba9",
   "metadata": {},
   "outputs": [],
   "source": [
    "######## agora aprenderemos a mandar parâmetros"
   ]
  },
  {
   "cell_type": "code",
   "execution_count": 14,
   "id": "52b222cb-5a6b-4022-9af7-d4d94ca4eb09",
   "metadata": {},
   "outputs": [],
   "source": [
    "# usaremos o POST CREATE do site"
   ]
  },
  {
   "cell_type": "code",
   "execution_count": 15,
   "id": "87ff87ed-4f21-4b0d-bc7c-d8a73ce5de8d",
   "metadata": {},
   "outputs": [
    {
     "data": {
      "text/plain": [
       "{'name': 'Lucas',\n",
       " 'job': 'DS',\n",
       " 'id': '231',\n",
       " 'createdAt': '2023-04-28T02:02:17.872Z'}"
      ]
     },
     "execution_count": 15,
     "metadata": {},
     "output_type": "execute_result"
    }
   ],
   "source": [
    "## vamos enviar esse payload (conjuntinho de infos num dicionario) para cadastra via metodo post na api\n",
    "payload = {\n",
    "            'name': 'Lucas',\n",
    "            'job': 'DS'\n",
    "                }\n",
    "\n",
    "r = requests.post('https://reqres.in/api/users/', json=payload)\n",
    "\n",
    "r.json()"
   ]
  },
  {
   "cell_type": "code",
   "execution_count": 16,
   "id": "41987df8-1e02-4768-9b7e-686aec48373b",
   "metadata": {},
   "outputs": [
    {
     "data": {
      "text/plain": [
       "<Response [201]>"
      ]
     },
     "execution_count": 16,
     "metadata": {},
     "output_type": "execute_result"
    }
   ],
   "source": [
    "r ## 201 sucesso com uma criacao (pq mandamos um post)"
   ]
  },
  {
   "cell_type": "code",
   "execution_count": 17,
   "id": "1ecf7778-2abe-46d3-9942-cc5966d0bd47",
   "metadata": {},
   "outputs": [],
   "source": [
    "## testando um outro site\n",
    "#httpbin.org"
   ]
  },
  {
   "cell_type": "code",
   "execution_count": 18,
   "id": "a666c19f-693a-418b-a6f1-2d4530762a1f",
   "metadata": {},
   "outputs": [
    {
     "data": {
      "text/plain": [
       "{'args': {},\n",
       " 'data': '',\n",
       " 'files': {},\n",
       " 'form': {'location': 'SC', 'name': 'Lucas'},\n",
       " 'headers': {'Accept': '*/*',\n",
       "  'Accept-Encoding': 'gzip, deflate',\n",
       "  'Content-Length': '22',\n",
       "  'Content-Type': 'application/x-www-form-urlencoded',\n",
       "  'Host': 'httpbin.org',\n",
       "  'User-Agent': 'python-requests/2.27.1',\n",
       "  'X-Amzn-Trace-Id': 'Root=1-644b292a-0fefc5cf5a5b6fce48d9b086'},\n",
       " 'json': None,\n",
       " 'origin': '186.223.208.39',\n",
       " 'url': 'https://httpbin.org/post'}"
      ]
     },
     "execution_count": 18,
     "metadata": {},
     "output_type": "execute_result"
    }
   ],
   "source": [
    "payload = {\n",
    "            'name': 'Lucas',\n",
    "            'location': 'SC'\n",
    "                }\n",
    "\n",
    "r = requests.post('https://httpbin.org/post', data=payload)\n",
    "## aqui mandamos o payload como data para entrar como um formulario\n",
    "# como podemos ver as nossas entradas no campo 'form'\n",
    "r.json()"
   ]
  },
  {
   "cell_type": "code",
   "execution_count": 19,
   "id": "a4ac7cec-6b38-47be-818c-e3e71daca942",
   "metadata": {},
   "outputs": [],
   "source": [
    "## recebendo um arquivo"
   ]
  },
  {
   "cell_type": "code",
   "execution_count": 20,
   "id": "a1802e30-96d6-40e3-94e2-5cbb76a52fcf",
   "metadata": {},
   "outputs": [
    {
     "data": {
      "text/plain": [
       "{'Date': 'Fri, 28 Apr 2023 02:02:21 GMT', 'Content-Type': 'image/jpeg', 'Content-Length': '35588', 'Connection': 'keep-alive', 'Server': 'gunicorn/19.9.0', 'Access-Control-Allow-Origin': '*', 'Access-Control-Allow-Credentials': 'true'}"
      ]
     },
     "execution_count": 20,
     "metadata": {},
     "output_type": "execute_result"
    }
   ],
   "source": [
    "r = requests.get('https://httpbin.org/image/jpeg')\n",
    "r.headers\n",
    "## pelo content-type vemos que o endpoint quer mesmo mandar uma img\n",
    "# mas precisamos salva-la"
   ]
  },
  {
   "cell_type": "code",
   "execution_count": 21,
   "id": "794d83e8-d5ce-4144-98cc-ae2eb83951b5",
   "metadata": {},
   "outputs": [],
   "source": [
    "## pequena rotina pra salvar baseada em chunks\n",
    "with open('image.jpeg', 'wb') as fd:\n",
    "    for chunk in r.iter_content(chunk_size=500):\n",
    "        fd.write(chunk)"
   ]
  },
  {
   "cell_type": "markdown",
   "id": "da39d10e-cbbf-4248-96f7-572c6c9e3795",
   "metadata": {},
   "source": [
    "<img src=\"image.jpeg\">"
   ]
  },
  {
   "cell_type": "code",
   "execution_count": 22,
   "id": "28beb77c-ce08-429a-be00-a7fa45ebd718",
   "metadata": {},
   "outputs": [],
   "source": [
    "## tratando exceptions"
   ]
  },
  {
   "cell_type": "code",
   "execution_count": 23,
   "id": "2e0406c5-b202-4854-912d-dd8d826233e3",
   "metadata": {},
   "outputs": [
    {
     "name": "stdout",
     "output_type": "stream",
     "text": [
      "ERRO 500\n"
     ]
    }
   ],
   "source": [
    "## essa url retorna qqer status que eu colocar\n",
    "# vamos simular um status 500 de erro\n",
    "# a fim de nao travar a execucao, criamos uma rotina try except que trata o problema\n",
    "r = requests.get('https://httpbin.org/status/500')\n",
    "try:\n",
    "    r.json()\n",
    "except:\n",
    "    print('ERRO 500')"
   ]
  },
  {
   "cell_type": "code",
   "execution_count": 24,
   "id": "b602d7ca-ab01-4edc-b540-734fd1525b5d",
   "metadata": {},
   "outputs": [
    {
     "name": "stdout",
     "output_type": "stream",
     "text": [
      "ERRO DE CONEXAO\n"
     ]
    }
   ],
   "source": [
    "## ja aqui estamos tratando o caso da pessoa inserir uma URL inexistente\n",
    "\n",
    "try:\n",
    "    r = requests.get('https://abababa')\n",
    "except:\n",
    "    print('ERRO DE CONEXAO')"
   ]
  },
  {
   "cell_type": "code",
   "execution_count": 25,
   "id": "7fd40eac-90d5-4cb1-bb5c-f8d9fa7bb6c9",
   "metadata": {},
   "outputs": [],
   "source": [
    "### tratando timeouts"
   ]
  },
  {
   "cell_type": "code",
   "execution_count": 26,
   "id": "64e78204-d46a-4b12-9a64-88132fe32b0b",
   "metadata": {},
   "outputs": [
    {
     "name": "stdout",
     "output_type": "stream",
     "text": [
      "TIMEOUT\n"
     ]
    }
   ],
   "source": [
    "### com essa url ele vai demorar 15 segundos pra dar a resposta\n",
    "## mas coloquei um timeout de 5 seg apenas, \n",
    "## nao vai dar tempo\n",
    "try:\n",
    "    r = requests.get('https://httpbin.org/delay/15', timeout=5)\n",
    "    print('deu tempo da requisicao chegar')\n",
    "    print('o status foi', r)\n",
    "except:\n",
    "    print('TIMEOUT')"
   ]
  },
  {
   "cell_type": "code",
   "execution_count": 27,
   "id": "aa10bb7a-dccb-46c5-9532-e6f72576f893",
   "metadata": {},
   "outputs": [
    {
     "name": "stdout",
     "output_type": "stream",
     "text": [
      "deu tempo da requisicao chegar\n",
      "o status foi <Response [200]>\n"
     ]
    }
   ],
   "source": [
    "### com essa url ele vai me demorar 15 segundos pra dar a resposta\n",
    "## mas coloquei um timeout de 25 seg apenas, \n",
    "## agora vai dar tempo\n",
    "try:\n",
    "    r = requests.get('https://httpbin.org/delay/15', timeout=25)\n",
    "    print('deu tempo da requisicao chegar')\n",
    "    print('o status foi', r)\n",
    "except:\n",
    "    print('TIMEOUT')"
   ]
  },
  {
   "cell_type": "code",
   "execution_count": 28,
   "id": "fb960c6e-0041-4a97-9d82-f53d994184c7",
   "metadata": {},
   "outputs": [],
   "source": [
    "### lidando com autenticacao"
   ]
  },
  {
   "cell_type": "code",
   "execution_count": 31,
   "id": "d0893f4a-a85f-44ef-8124-4b0d27ad4d6a",
   "metadata": {},
   "outputs": [
    {
     "data": {
      "text/plain": [
       "<Response [401]>"
      ]
     },
     "execution_count": 31,
     "metadata": {},
     "output_type": "execute_result"
    }
   ],
   "source": [
    "r = requests.get('https://httpbin.org/basic-auth/user/passwd')\n",
    "r ## 401 pq tive um erro de auth"
   ]
  },
  {
   "cell_type": "code",
   "execution_count": 35,
   "id": "60ca4784-c725-48b9-a49d-16d0b44580cf",
   "metadata": {},
   "outputs": [],
   "source": [
    "## importanto a lib pra fazer autenticacao\n",
    "from requests.auth import HTTPBasicAuth"
   ]
  },
  {
   "cell_type": "code",
   "execution_count": 34,
   "id": "fd5aed14-1ef9-46a4-a22e-574cbb5cf7aa",
   "metadata": {},
   "outputs": [
    {
     "data": {
      "text/plain": [
       "<Response [200]>"
      ]
     },
     "execution_count": 34,
     "metadata": {},
     "output_type": "execute_result"
    }
   ],
   "source": [
    "### essa url de api exemplo cria uma autenticacao com o nome de usuario que \n",
    "##  vc colocar em user e com a senha que vc colocar em passwd\n",
    "r = requests.get('https://httpbin.org/basic-auth/user/passwd', auth=HTTPBasicAuth('user', 'passwd'))\n",
    "r ## 200 agora pq usei o user e senha certos"
   ]
  },
  {
   "cell_type": "code",
   "execution_count": 36,
   "id": "c62a89f9-f033-4053-986c-07e11628fc41",
   "metadata": {},
   "outputs": [
    {
     "data": {
      "text/plain": [
       "<Response [200]>"
      ]
     },
     "execution_count": 36,
     "metadata": {},
     "output_type": "execute_result"
    }
   ],
   "source": [
    "## mais um exemplo trocando o user e o passwd\n",
    "r = requests.get('https://httpbin.org/basic-auth/lucas/senha', auth=HTTPBasicAuth('lucas', 'senha'))\n",
    "r ## 200 agora pq usei o user e senha certos"
   ]
  },
  {
   "cell_type": "code",
   "execution_count": null,
   "id": "3d123f16-69da-4591-a451-02b4f0199700",
   "metadata": {},
   "outputs": [],
   "source": [
    "#### ex com rest countries\n",
    "## https://restcountries.com/\n",
    "## esse site retorna infos de varidos paises consultados"
   ]
  },
  {
   "cell_type": "code",
   "execution_count": 101,
   "id": "df9b1db7-02db-423a-9bd7-1ffd5a4ed2f2",
   "metadata": {},
   "outputs": [],
   "source": [
    "base_url = 'https://restcountries.com/v3.1/'"
   ]
  },
  {
   "cell_type": "code",
   "execution_count": 103,
   "id": "2d0bb68e-687b-415d-bba9-1c22b1484af7",
   "metadata": {},
   "outputs": [
    {
     "data": {
      "text/plain": [
       "[{'name': {'common': 'Barbados',\n",
       "   'official': 'Barbados',\n",
       "   'nativeName': {'eng': {'official': 'Barbados', 'common': 'Barbados'}}},\n",
       "  'tld': ['.bb'],\n",
       "  'cca2': 'BB',\n",
       "  'ccn3': '052',\n",
       "  'cca3': 'BRB',\n",
       "  'cioc': 'BAR',\n",
       "  'independent': True,\n",
       "  'status': 'officially-assigned',\n",
       "  'unMember': True,\n",
       "  'currencies': {'BBD': {'name': 'Barbadian dollar', 'symbol': '$'}},\n",
       "  'idd': {'root': '+1', 'suffixes': ['246']},\n",
       "  'capital': ['Bridgetown'],\n",
       "  'altSpellings': ['BB'],\n",
       "  'region': 'Americas',\n",
       "  'subregion': 'Caribbean',\n",
       "  'languages': {'eng': 'English'},\n",
       "  'translations': {'ara': {'official': 'باربادوس', 'common': 'باربادوس'},\n",
       "   'bre': {'official': 'Barbados', 'common': 'Barbados'},\n",
       "   'ces': {'official': 'Barbados', 'common': 'Barbados'},\n",
       "   'cym': {'official': 'Barbados', 'common': 'Barbados'},\n",
       "   'deu': {'official': 'Barbados', 'common': 'Barbados'},\n",
       "   'est': {'official': 'Barbados', 'common': 'Barbados'},\n",
       "   'fin': {'official': 'Barbados', 'common': 'Barbados'},\n",
       "   'fra': {'official': 'Barbade', 'common': 'Barbade'},\n",
       "   'hrv': {'official': 'Barbados', 'common': 'Barbados'},\n",
       "   'hun': {'official': 'Barbados', 'common': 'Barbados'},\n",
       "   'ita': {'official': 'Barbados', 'common': 'Barbados'},\n",
       "   'jpn': {'official': 'バルバドス', 'common': 'バルバドス'},\n",
       "   'kor': {'official': '바베이도스', 'common': '바베이도스'},\n",
       "   'nld': {'official': 'Barbados', 'common': 'Barbados'},\n",
       "   'per': {'official': 'باربادوس', 'common': 'باربادوس'},\n",
       "   'pol': {'official': 'Barbados', 'common': 'Barbados'},\n",
       "   'por': {'official': 'Barbados', 'common': 'Barbados'},\n",
       "   'rus': {'official': 'Барбадос', 'common': 'Барбадос'},\n",
       "   'slk': {'official': 'Barbados', 'common': 'Barbados'},\n",
       "   'spa': {'official': 'Barbados', 'common': 'Barbados'},\n",
       "   'srp': {'official': 'Барбадос', 'common': 'Барбадос'},\n",
       "   'swe': {'official': 'Barbados', 'common': 'Barbados'},\n",
       "   'tur': {'official': 'Barbados', 'common': 'Barbados'},\n",
       "   'urd': {'official': 'بارباڈوس', 'common': 'بارباڈوس'},\n",
       "   'zho': {'official': '巴巴多斯', 'common': '巴巴多斯'}},\n",
       "  'latlng': [13.16666666, -59.53333333],\n",
       "  'landlocked': False,\n",
       "  'area': 430.0,\n",
       "  'demonyms': {'eng': {'f': 'Barbadian', 'm': 'Barbadian'},\n",
       "   'fra': {'f': 'Barbadienne', 'm': 'Barbadien'}},\n",
       "  'flag': '🇧🇧',\n",
       "  'maps': {'googleMaps': 'https://goo.gl/maps/2m36v8STvbGAWd9c7',\n",
       "   'openStreetMaps': 'https://www.openstreetmap.org/relation/547511'},\n",
       "  'population': 287371,\n",
       "  'fifa': 'BRB',\n",
       "  'car': {'signs': ['BDS'], 'side': 'left'},\n",
       "  'timezones': ['UTC-04:00'],\n",
       "  'continents': ['North America'],\n",
       "  'flags': {'png': 'https://flagcdn.com/w320/bb.png',\n",
       "   'svg': 'https://flagcdn.com/bb.svg',\n",
       "   'alt': 'The flag of Barbados is composed of three equal vertical bands of ultramarine, gold and ultramarine. The head of a black trident is centered in the gold band.'},\n",
       "  'coatOfArms': {'png': 'https://mainfacts.com/media/images/coats_of_arms/bb.png',\n",
       "   'svg': 'https://mainfacts.com/media/images/coats_of_arms/bb.svg'},\n",
       "  'startOfWeek': 'monday',\n",
       "  'capitalInfo': {'latlng': [13.1, -59.62]},\n",
       "  'postalCode': {'format': 'BB#####', 'regex': '^(?:BB)*(\\\\d{5})$'}},\n",
       " {'name': {'common': 'Réunion',\n",
       "   'official': 'Réunion Island',\n",
       "   'nativeName': {'fra': {'official': 'Ile de la Réunion',\n",
       "     'common': 'La Réunion'}}},\n",
       "  'tld': ['.re'],\n",
       "  'cca2': 'RE',\n",
       "  'ccn3': '638',\n",
       "  'cca3': 'REU',\n",
       "  'independent': False,\n",
       "  'status': 'officially-assigned',\n",
       "  'unMember': False,\n",
       "  'currencies': {'EUR': {'name': 'Euro', 'symbol': '€'}},\n",
       "  'idd': {'root': '+2', 'suffixes': ['62']},\n",
       "  'capital': ['Saint-Denis'],\n",
       "  'altSpellings': ['RE', 'Reunion'],\n",
       "  'region': 'Africa',\n",
       "  'subregion': 'Eastern Africa',\n",
       "  'languages': {'fra': 'French'},\n",
       "  'translations': {'ara': {'official': 'جزيرة لا ريونيون',\n",
       "    'common': 'لا ريونيون'},\n",
       "   'bre': {'official': 'Enez ar Reünion', 'common': 'Reünion'},\n",
       "   'ces': {'official': 'Réunion', 'common': 'Réunion'},\n",
       "   'cym': {'official': 'Réunion Island', 'common': 'Réunion'},\n",
       "   'deu': {'official': 'Réunion', 'common': 'Réunion'},\n",
       "   'est': {'official': 'Réunioni departemang', 'common': 'Réunion'},\n",
       "   'fin': {'official': 'Réunion', 'common': 'Réunion'},\n",
       "   'fra': {'official': 'Ile de la Réunion', 'common': 'Réunion'},\n",
       "   'hrv': {'official': 'Réunion Island', 'common': 'Réunion'},\n",
       "   'hun': {'official': 'Réunion', 'common': 'Réunion'},\n",
       "   'ita': {'official': 'Réunion', 'common': 'Riunione'},\n",
       "   'jpn': {'official': 'レユニオン島', 'common': 'レユニオン'},\n",
       "   'kor': {'official': '레위니옹', 'common': '레위니옹'},\n",
       "   'nld': {'official': 'Réunion', 'common': 'Réunion'},\n",
       "   'per': {'official': 'رئونیون', 'common': 'رئونیون'},\n",
       "   'pol': {'official': 'Reunion', 'common': 'Reunion'},\n",
       "   'por': {'official': 'Ilha da Reunião', 'common': 'Reunião'},\n",
       "   'rus': {'official': 'Реюньон', 'common': 'Реюньон'},\n",
       "   'slk': {'official': 'Réunionský zámorský departmán', 'common': 'Réunion'},\n",
       "   'spa': {'official': 'Isla de la Reunión', 'common': 'Reunión'},\n",
       "   'srp': {'official': 'Реинион', 'common': 'Реинион'},\n",
       "   'swe': {'official': 'Réunion', 'common': 'Réunion'},\n",
       "   'tur': {'official': 'Réunion', 'common': 'Réunion'},\n",
       "   'urd': {'official': 'رے یونیوں جزیرہ', 'common': 'رے یونیوں'},\n",
       "   'zho': {'official': '留尼旺岛', 'common': '留尼旺岛'}},\n",
       "  'latlng': [-21.15, 55.5],\n",
       "  'landlocked': False,\n",
       "  'area': 2511.0,\n",
       "  'demonyms': {'eng': {'f': 'Réunionese', 'm': 'Réunionese'},\n",
       "   'fra': {'f': 'Réunionnaise', 'm': 'Réunionnais'}},\n",
       "  'flag': '🇷🇪',\n",
       "  'maps': {'googleMaps': 'https://goo.gl/maps/wWpBrXsp8UHVbah29',\n",
       "   'openStreetMaps': 'https://www.openstreetmap.org/relation/1785276'},\n",
       "  'population': 840974,\n",
       "  'car': {'signs': ['F'], 'side': 'right'},\n",
       "  'timezones': ['UTC+04:00'],\n",
       "  'continents': ['Africa'],\n",
       "  'flags': {'png': 'https://flagcdn.com/w320/re.png',\n",
       "   'svg': 'https://flagcdn.com/re.svg'},\n",
       "  'coatOfArms': {},\n",
       "  'startOfWeek': 'monday',\n",
       "  'capitalInfo': {'latlng': [-20.88, 55.45]},\n",
       "  'postalCode': {'format': '#####', 'regex': '^((97|98)(4|7|8)\\\\d{2})$'}}]"
      ]
     },
     "execution_count": 103,
     "metadata": {},
     "output_type": "execute_result"
    }
   ],
   "source": [
    "r = requests.get(base_url + 'all')\n",
    "r.json()[0:2] ## coloquei esse [0:2] só pra saida ser menor, senao ele mostraria todos os paises da base"
   ]
  },
  {
   "cell_type": "code",
   "execution_count": 104,
   "id": "aa7c1048-d859-4ba1-990a-08a549e75cc8",
   "metadata": {},
   "outputs": [
    {
     "data": {
      "text/plain": [
       "{'name': {'common': 'Indonesia',\n",
       "  'official': 'Republic of Indonesia',\n",
       "  'nativeName': {'ind': {'official': 'Republik Indonesia',\n",
       "    'common': 'Indonesia'}}},\n",
       " 'tld': ['.id'],\n",
       " 'cca2': 'ID',\n",
       " 'ccn3': '360',\n",
       " 'cca3': 'IDN',\n",
       " 'cioc': 'INA',\n",
       " 'independent': True,\n",
       " 'status': 'officially-assigned',\n",
       " 'unMember': True,\n",
       " 'currencies': {'IDR': {'name': 'Indonesian rupiah', 'symbol': 'Rp'}},\n",
       " 'idd': {'root': '+6', 'suffixes': ['2']},\n",
       " 'capital': ['Jakarta'],\n",
       " 'altSpellings': ['ID', 'Republic of Indonesia', 'Republik Indonesia'],\n",
       " 'region': 'Asia',\n",
       " 'subregion': 'South-Eastern Asia',\n",
       " 'languages': {'ind': 'Indonesian'},\n",
       " 'translations': {'ara': {'official': 'جمهورية إندونيسيا',\n",
       "   'common': 'إندونيسيا'},\n",
       "  'bre': {'official': 'Republik Indonezia', 'common': 'Indonezia'},\n",
       "  'ces': {'official': 'Indonéská republika', 'common': 'Indonésie'},\n",
       "  'cym': {'official': 'Republic of Indonesia', 'common': 'Indonesia'},\n",
       "  'deu': {'official': 'Republik Indonesien', 'common': 'Indonesien'},\n",
       "  'est': {'official': 'Indoneesia Vabariik', 'common': 'Indoneesia'},\n",
       "  'fin': {'official': 'Indonesian tasavalta', 'common': 'Indonesia'},\n",
       "  'fra': {'official': \"République d'Indonésie\", 'common': 'Indonésie'},\n",
       "  'hrv': {'official': 'Republika Indonezija', 'common': 'Indonezija'},\n",
       "  'hun': {'official': 'Indonéz Köztársaság', 'common': 'Indonézia'},\n",
       "  'ita': {'official': 'Repubblica di Indonesia', 'common': 'Indonesia'},\n",
       "  'jpn': {'official': 'インドネシア共和国', 'common': 'インドネシア'},\n",
       "  'kor': {'official': '인도네시아 공화국', 'common': '인도네시아'},\n",
       "  'nld': {'official': 'Republiek Indonesië', 'common': 'Indonesië'},\n",
       "  'per': {'official': 'جمهوری اندونزی', 'common': 'اندونزی'},\n",
       "  'pol': {'official': 'Republika Indonezji', 'common': 'Indonezja'},\n",
       "  'por': {'official': 'República da Indonésia', 'common': 'Indonésia'},\n",
       "  'rus': {'official': 'Республика Индонезия', 'common': 'Индонезия'},\n",
       "  'slk': {'official': 'Indonézska republika', 'common': 'Indonézia'},\n",
       "  'spa': {'official': 'República de Indonesia', 'common': 'Indonesia'},\n",
       "  'srp': {'official': 'Република Индонезија', 'common': 'Индонезија'},\n",
       "  'swe': {'official': 'Republiken Indonesien', 'common': 'Indonesien'},\n",
       "  'tur': {'official': 'Endonezya Cumhuriyeti', 'common': 'Endonezya'},\n",
       "  'urd': {'official': 'جمہوریہ انڈونیشیا', 'common': 'انڈونیشیا'},\n",
       "  'zho': {'official': '印度尼西亚共和国', 'common': '印度尼西亚'}},\n",
       " 'latlng': [-5.0, 120.0],\n",
       " 'landlocked': False,\n",
       " 'borders': ['TLS', 'MYS', 'PNG'],\n",
       " 'area': 1904569.0,\n",
       " 'demonyms': {'eng': {'f': 'Indonesian', 'm': 'Indonesian'},\n",
       "  'fra': {'f': 'Indonésienne', 'm': 'Indonésien'}},\n",
       " 'flag': '🇮🇩',\n",
       " 'maps': {'googleMaps': 'https://goo.gl/maps/9gfPupm5bffixiFJ6',\n",
       "  'openStreetMaps': 'https://www.openstreetmap.org/relation/21335'},\n",
       " 'population': 273523621,\n",
       " 'gini': {'2019': 38.2},\n",
       " 'fifa': 'IDN',\n",
       " 'car': {'signs': ['RI'], 'side': 'left'},\n",
       " 'timezones': ['UTC+07:00', 'UTC+08:00', 'UTC+09:00'],\n",
       " 'continents': ['Asia'],\n",
       " 'flags': {'png': 'https://flagcdn.com/w320/id.png',\n",
       "  'svg': 'https://flagcdn.com/id.svg',\n",
       "  'alt': 'The flag of Indonesia is composed of two equal horizontal bands of red and white.'},\n",
       " 'coatOfArms': {'png': 'https://mainfacts.com/media/images/coats_of_arms/id.png',\n",
       "  'svg': 'https://mainfacts.com/media/images/coats_of_arms/id.svg'},\n",
       " 'startOfWeek': 'monday',\n",
       " 'capitalInfo': {'latlng': [-6.17, 106.82]},\n",
       " 'postalCode': {'format': '#####', 'regex': '^(\\\\d{5})$'}}"
      ]
     },
     "execution_count": 104,
     "metadata": {},
     "output_type": "execute_result"
    }
   ],
   "source": [
    "json_result = r.json()\n",
    "json_result[84] ## aqui vou ver só o pais 84"
   ]
  },
  {
   "cell_type": "code",
   "execution_count": 105,
   "id": "b332f908-dd0b-4d76-b92f-aab9e2e3bdd4",
   "metadata": {},
   "outputs": [
    {
     "data": {
      "text/plain": [
       "{'common': 'Indonesia',\n",
       " 'official': 'Republic of Indonesia',\n",
       " 'nativeName': {'ind': {'official': 'Republik Indonesia',\n",
       "   'common': 'Indonesia'}}}"
      ]
     },
     "execution_count": 105,
     "metadata": {},
     "output_type": "execute_result"
    }
   ],
   "source": [
    " ##para filtrar por infos relevantes baasta ir complementando com os campos de interesse\n",
    "    # dentro das possibilidades possiveis , aqui quero só o nome do pais 84\n",
    "json_result[84]['name']"
   ]
  },
  {
   "cell_type": "code",
   "execution_count": 106,
   "id": "97795144-9ff8-42ea-abf5-88491c043f12",
   "metadata": {},
   "outputs": [
    {
     "data": {
      "text/plain": [
       "273523621"
      ]
     },
     "execution_count": 106,
     "metadata": {},
     "output_type": "execute_result"
    }
   ],
   "source": [
    "json_result[84]['population'] # aqui so a populacao"
   ]
  },
  {
   "cell_type": "code",
   "execution_count": 45,
   "id": "921842c5-2edf-4aa7-af06-28b1b67d5f47",
   "metadata": {},
   "outputs": [],
   "source": [
    "########################"
   ]
  },
  {
   "cell_type": "code",
   "execution_count": 46,
   "id": "1e76bc7b-8e79-43ad-bda3-1ad3f2d0e1c4",
   "metadata": {},
   "outputs": [],
   "source": [
    "#### passando um parametro"
   ]
  },
  {
   "cell_type": "code",
   "execution_count": 109,
   "id": "bb4d77fd-07df-442f-a10c-81c1d009af07",
   "metadata": {},
   "outputs": [
    {
     "data": {
      "text/plain": [
       "[{'name': {'common': 'Zimbabwe',\n",
       "   'official': 'Republic of Zimbabwe',\n",
       "   'nativeName': {'bwg': {'official': 'Republic of Zimbabwe',\n",
       "     'common': 'Zimbabwe'},\n",
       "    'eng': {'official': 'Republic of Zimbabwe', 'common': 'Zimbabwe'},\n",
       "    'kck': {'official': 'Republic of Zimbabwe', 'common': 'Zimbabwe'},\n",
       "    'khi': {'official': 'Republic of Zimbabwe', 'common': 'Zimbabwe'},\n",
       "    'ndc': {'official': 'Republic of Zimbabwe', 'common': 'Zimbabwe'},\n",
       "    'nde': {'official': 'Republic of Zimbabwe', 'common': 'Zimbabwe'},\n",
       "    'nya': {'official': 'Republic of Zimbabwe', 'common': 'Zimbabwe'},\n",
       "    'sna': {'official': 'Republic of Zimbabwe', 'common': 'Zimbabwe'},\n",
       "    'sot': {'official': 'Republic of Zimbabwe', 'common': 'Zimbabwe'},\n",
       "    'toi': {'official': 'Republic of Zimbabwe', 'common': 'Zimbabwe'},\n",
       "    'tsn': {'official': 'Republic of Zimbabwe', 'common': 'Zimbabwe'},\n",
       "    'tso': {'official': 'Republic of Zimbabwe', 'common': 'Zimbabwe'},\n",
       "    'ven': {'official': 'Republic of Zimbabwe', 'common': 'Zimbabwe'},\n",
       "    'xho': {'official': 'Republic of Zimbabwe', 'common': 'Zimbabwe'},\n",
       "    'zib': {'official': 'Republic of Zimbabwe', 'common': 'Zimbabwe'}}},\n",
       "  'tld': ['.zw'],\n",
       "  'cca2': 'ZW',\n",
       "  'ccn3': '716',\n",
       "  'cca3': 'ZWE',\n",
       "  'cioc': 'ZIM',\n",
       "  'independent': True,\n",
       "  'status': 'officially-assigned',\n",
       "  'unMember': True,\n",
       "  'currencies': {'ZWL': {'name': 'Zimbabwean dollar', 'symbol': '$'}},\n",
       "  'idd': {'root': '+2', 'suffixes': ['63']},\n",
       "  'capital': ['Harare'],\n",
       "  'altSpellings': ['ZW', 'Republic of Zimbabwe'],\n",
       "  'region': 'Africa',\n",
       "  'subregion': 'Southern Africa',\n",
       "  'languages': {'bwg': 'Chibarwe',\n",
       "   'eng': 'English',\n",
       "   'kck': 'Kalanga',\n",
       "   'khi': 'Khoisan',\n",
       "   'ndc': 'Ndau',\n",
       "   'nde': 'Northern Ndebele',\n",
       "   'nya': 'Chewa',\n",
       "   'sna': 'Shona',\n",
       "   'sot': 'Sotho',\n",
       "   'toi': 'Tonga',\n",
       "   'tsn': 'Tswana',\n",
       "   'tso': 'Tsonga',\n",
       "   'ven': 'Venda',\n",
       "   'xho': 'Xhosa',\n",
       "   'zib': 'Zimbabwean Sign Language'},\n",
       "  'translations': {'ara': {'official': 'جمهورية زيمبابوي',\n",
       "    'common': 'زيمبابوي'},\n",
       "   'bre': {'official': 'Republik Zimbabwe', 'common': 'Zimbabwe'},\n",
       "   'ces': {'official': 'Zimbabwská republika', 'common': 'Zimbabwe'},\n",
       "   'cym': {'official': 'Republic of Zimbabwe', 'common': 'Zimbabwe'},\n",
       "   'deu': {'official': 'Republik Simbabwe', 'common': 'Simbabwe'},\n",
       "   'est': {'official': 'Zimbabwe Vabariik', 'common': 'Zimbabwe'},\n",
       "   'fin': {'official': 'Zimbabwen tasavalta', 'common': 'Zimbabwe'},\n",
       "   'fra': {'official': 'République du Zimbabwe', 'common': 'Zimbabwe'},\n",
       "   'hrv': {'official': 'Republika Zimbabve', 'common': 'Zimbabve'},\n",
       "   'hun': {'official': 'Zimbabwei Köztársaság', 'common': 'Zimbabwe'},\n",
       "   'ita': {'official': 'Repubblica dello Zimbabwe', 'common': 'Zimbabwe'},\n",
       "   'jpn': {'official': 'ジンバブエ共和国', 'common': 'ジンバブエ'},\n",
       "   'kor': {'official': '짐바브웨 공화국', 'common': '짐바브웨'},\n",
       "   'nld': {'official': 'Republiek Zimbabwe', 'common': 'Zimbabwe'},\n",
       "   'per': {'official': 'جمهوری زیمبابوه', 'common': 'زیمبابوه'},\n",
       "   'pol': {'official': 'Republika Zimbabwe', 'common': 'Zimbabwe'},\n",
       "   'por': {'official': 'República do Zimbabwe', 'common': 'Zimbabwe'},\n",
       "   'rus': {'official': 'Республика Зимбабве', 'common': 'Зимбабве'},\n",
       "   'slk': {'official': 'Zimbabwianska republika', 'common': 'Zimbabwe'},\n",
       "   'spa': {'official': 'República de Zimbabue', 'common': 'Zimbabue'},\n",
       "   'srp': {'official': 'Република Зимбабве', 'common': 'Зимбабве'},\n",
       "   'swe': {'official': 'Republiken Zimbabwe', 'common': 'Zimbabwe'},\n",
       "   'tur': {'official': 'Zimbabve Cumhuriyeti', 'common': 'Zimbabve'},\n",
       "   'urd': {'official': 'جمہوریہ زمبابوے', 'common': 'زمبابوے'},\n",
       "   'zho': {'official': '津巴布韦共和国', 'common': '津巴布韦'}},\n",
       "  'latlng': [-20.0, 30.0],\n",
       "  'landlocked': True,\n",
       "  'borders': ['BWA', 'MOZ', 'ZAF', 'ZMB'],\n",
       "  'area': 390757.0,\n",
       "  'demonyms': {'eng': {'f': 'Zimbabwean', 'm': 'Zimbabwean'},\n",
       "   'fra': {'f': 'Zimbabwéenne', 'm': 'Zimbabwéen'}},\n",
       "  'flag': '🇿🇼',\n",
       "  'maps': {'googleMaps': 'https://goo.gl/maps/M26BqdwQctqxXS65A',\n",
       "   'openStreetMaps': 'https://www.openstreetmap.org/relation/195272'},\n",
       "  'population': 14862927,\n",
       "  'gini': {'2019': 50.3},\n",
       "  'fifa': 'ZIM',\n",
       "  'car': {'signs': ['ZW'], 'side': 'left'},\n",
       "  'timezones': ['UTC+02:00'],\n",
       "  'continents': ['Africa'],\n",
       "  'flags': {'png': 'https://flagcdn.com/w320/zw.png',\n",
       "   'svg': 'https://flagcdn.com/zw.svg',\n",
       "   'alt': 'The flag of Zimbabwe is composed of seven equal horizontal bands of green, yellow, red, black, red, yellow and green, with a white isosceles triangle superimposed on the hoist side of the field. This triangle is edged in black, spans about one-fourth the width of the field and has its base on the hoist end. A yellow Zimbabwe bird superimposed on a five-pointed red star is centered in the triangle.'},\n",
       "  'coatOfArms': {'png': 'https://mainfacts.com/media/images/coats_of_arms/zw.png',\n",
       "   'svg': 'https://mainfacts.com/media/images/coats_of_arms/zw.svg'},\n",
       "  'startOfWeek': 'monday',\n",
       "  'capitalInfo': {'latlng': [-17.82, 31.03]}},\n",
       " {'name': {'common': 'Brazil',\n",
       "   'official': 'Federative Republic of Brazil',\n",
       "   'nativeName': {'por': {'official': 'República Federativa do Brasil',\n",
       "     'common': 'Brasil'}}},\n",
       "  'tld': ['.br'],\n",
       "  'cca2': 'BR',\n",
       "  'ccn3': '076',\n",
       "  'cca3': 'BRA',\n",
       "  'cioc': 'BRA',\n",
       "  'independent': True,\n",
       "  'status': 'officially-assigned',\n",
       "  'unMember': True,\n",
       "  'currencies': {'BRL': {'name': 'Brazilian real', 'symbol': 'R$'}},\n",
       "  'idd': {'root': '+5', 'suffixes': ['5']},\n",
       "  'capital': ['Brasília'],\n",
       "  'altSpellings': ['BR',\n",
       "   'Brasil',\n",
       "   'Federative Republic of Brazil',\n",
       "   'República Federativa do Brasil'],\n",
       "  'region': 'Americas',\n",
       "  'subregion': 'South America',\n",
       "  'languages': {'por': 'Portuguese'},\n",
       "  'translations': {'ara': {'official': 'جمهورية البرازيل الاتحادية',\n",
       "    'common': 'البرازيل'},\n",
       "   'bre': {'official': 'Republik Kevreel Brazil', 'common': 'Brazil'},\n",
       "   'ces': {'official': 'Brazilská federativní republika',\n",
       "    'common': 'Brazílie'},\n",
       "   'cym': {'official': 'Gweriniaeth Ffederal Brasil', 'common': 'Brasil'},\n",
       "   'deu': {'official': 'Föderative Republik Brasilien', 'common': 'Brasilien'},\n",
       "   'est': {'official': 'Brasiilia Liitvabariik', 'common': 'Brasiilia'},\n",
       "   'fin': {'official': 'Brasilian liittotasavalta', 'common': 'Brasilia'},\n",
       "   'fra': {'official': 'République fédérative du Brésil', 'common': 'Brésil'},\n",
       "   'hrv': {'official': 'Savezne Republike Brazil', 'common': 'Brazil'},\n",
       "   'hun': {'official': 'Brazil Szövetségi Köztársaság', 'common': 'Brazília'},\n",
       "   'ita': {'official': 'Repubblica federativa del Brasile',\n",
       "    'common': 'Brasile'},\n",
       "   'jpn': {'official': 'ブラジル連邦共和国', 'common': 'ブラジル'},\n",
       "   'kor': {'official': '브라질 연방 공화국', 'common': '브라질'},\n",
       "   'nld': {'official': 'Federale Republiek Brazilië', 'common': 'Brazilië'},\n",
       "   'per': {'official': 'جمهوری فدراتیو برزیل', 'common': 'برزیل'},\n",
       "   'pol': {'official': 'Federacyjna Republika Brazylii', 'common': 'Brazylia'},\n",
       "   'por': {'official': 'República Federativa do Brasil', 'common': 'Brasil'},\n",
       "   'rus': {'official': 'Федеративная Республика Бразилия',\n",
       "    'common': 'Бразилия'},\n",
       "   'slk': {'official': 'Brazílska federatívna republika',\n",
       "    'common': 'Brazília'},\n",
       "   'spa': {'official': 'República Federativa del Brasil', 'common': 'Brasil'},\n",
       "   'srp': {'official': 'Савезна Република Бразил', 'common': 'Бразил'},\n",
       "   'swe': {'official': 'Förbundsrepubliken Brasilien', 'common': 'Brasilien'},\n",
       "   'tur': {'official': 'Brezilya Federal Cumhuriyeti', 'common': 'Brezilya'},\n",
       "   'urd': {'official': 'وفاقی جمہوریہ برازیل', 'common': 'برازیل'},\n",
       "   'zho': {'official': '巴西联邦共和国', 'common': '巴西'}},\n",
       "  'latlng': [-10.0, -55.0],\n",
       "  'landlocked': False,\n",
       "  'borders': ['ARG',\n",
       "   'BOL',\n",
       "   'COL',\n",
       "   'GUF',\n",
       "   'GUY',\n",
       "   'PRY',\n",
       "   'PER',\n",
       "   'SUR',\n",
       "   'URY',\n",
       "   'VEN'],\n",
       "  'area': 8515767.0,\n",
       "  'demonyms': {'eng': {'f': 'Brazilian', 'm': 'Brazilian'},\n",
       "   'fra': {'f': 'Brésilienne', 'm': 'Brésilien'}},\n",
       "  'flag': '🇧🇷',\n",
       "  'maps': {'googleMaps': 'https://goo.gl/maps/waCKk21HeeqFzkNC9',\n",
       "   'openStreetMaps': 'https://www.openstreetmap.org/relation/59470'},\n",
       "  'population': 212559409,\n",
       "  'gini': {'2019': 53.4},\n",
       "  'fifa': 'BRA',\n",
       "  'car': {'signs': ['BR'], 'side': 'right'},\n",
       "  'timezones': ['UTC-05:00', 'UTC-04:00', 'UTC-03:00', 'UTC-02:00'],\n",
       "  'continents': ['South America'],\n",
       "  'flags': {'png': 'https://flagcdn.com/w320/br.png',\n",
       "   'svg': 'https://flagcdn.com/br.svg',\n",
       "   'alt': \"The flag of Brazil has a green field with a large yellow rhombus in the center. Within the rhombus is a dark blue globe with twenty-seven small five-pointed white stars depicting a starry sky and a thin white convex horizontal band inscribed with the national motto 'Ordem e Progresso' across its center.\"},\n",
       "  'coatOfArms': {'png': 'https://mainfacts.com/media/images/coats_of_arms/br.png',\n",
       "   'svg': 'https://mainfacts.com/media/images/coats_of_arms/br.svg'},\n",
       "  'startOfWeek': 'monday',\n",
       "  'capitalInfo': {'latlng': [-15.79, -47.88]},\n",
       "  'postalCode': {'format': '#####-###', 'regex': '^(\\\\d{8})$'}},\n",
       " {'name': {'common': 'Comoros',\n",
       "   'official': 'Union of the Comoros',\n",
       "   'nativeName': {'ara': {'official': 'الاتحاد القمري',\n",
       "     'common': 'القمر\\u200e'},\n",
       "    'fra': {'official': 'Union des Comores', 'common': 'Comores'},\n",
       "    'zdj': {'official': 'Udzima wa Komori', 'common': 'Komori'}}},\n",
       "  'tld': ['.km'],\n",
       "  'cca2': 'KM',\n",
       "  'ccn3': '174',\n",
       "  'cca3': 'COM',\n",
       "  'cioc': 'COM',\n",
       "  'independent': True,\n",
       "  'status': 'officially-assigned',\n",
       "  'unMember': True,\n",
       "  'currencies': {'KMF': {'name': 'Comorian franc', 'symbol': 'Fr'}},\n",
       "  'idd': {'root': '+2', 'suffixes': ['69']},\n",
       "  'capital': ['Moroni'],\n",
       "  'altSpellings': ['KM',\n",
       "   'Union of the Comoros',\n",
       "   'Union des Comores',\n",
       "   'Udzima wa Komori',\n",
       "   'al-Ittiḥād al-Qumurī'],\n",
       "  'region': 'Africa',\n",
       "  'subregion': 'Eastern Africa',\n",
       "  'languages': {'ara': 'Arabic', 'fra': 'French', 'zdj': 'Comorian'},\n",
       "  'translations': {'ara': {'official': 'الإتحاد القمري',\n",
       "    'common': 'جزر القمر'},\n",
       "   'bre': {'official': 'Unaniezh Komorez', 'common': 'Komorez'},\n",
       "   'ces': {'official': 'Komorský svaz', 'common': 'Komory'},\n",
       "   'cym': {'official': 'Undeb y Comoros', 'common': 'Y Comoros'},\n",
       "   'deu': {'official': 'Union der Komoren', 'common': 'Komoren'},\n",
       "   'est': {'official': 'Komoori Liit', 'common': 'Komoorid'},\n",
       "   'fin': {'official': 'Komorien liitto', 'common': 'Komorit'},\n",
       "   'fra': {'official': 'Union des Comores', 'common': 'Comores'},\n",
       "   'hrv': {'official': 'Savez Komori', 'common': 'Komori'},\n",
       "   'hun': {'official': 'Comore-szigeteki Unió', 'common': 'Comore-szigetek'},\n",
       "   'ita': {'official': 'Unione delle Comore', 'common': 'Comore'},\n",
       "   'jpn': {'official': 'コモロ連合', 'common': 'コモロ'},\n",
       "   'kor': {'official': '코모로 연방', 'common': '코모로'},\n",
       "   'nld': {'official': 'Unie van de Comoren', 'common': 'Comoren'},\n",
       "   'per': {'official': 'مجمع\\u200cالجزایر قمر', 'common': 'اتحاد قُمُر'},\n",
       "   'pol': {'official': 'Związek Komorów', 'common': 'Komory'},\n",
       "   'por': {'official': 'União das Comores', 'common': 'Comores'},\n",
       "   'rus': {'official': 'Союз Коморских Островов', 'common': 'Коморы'},\n",
       "   'slk': {'official': 'Komorská únia', 'common': 'Komory'},\n",
       "   'spa': {'official': 'Unión de las Comoras', 'common': 'Comoras'},\n",
       "   'srp': {'official': 'Савез Комора', 'common': 'Комори'},\n",
       "   'swe': {'official': 'Unionen Komorerna', 'common': 'Komorerna'},\n",
       "   'tur': {'official': 'Komorlar Birliği', 'common': 'Komorlar'},\n",
       "   'urd': {'official': 'اتحاد القمری', 'common': 'القمری'},\n",
       "   'zho': {'official': '科摩罗联盟', 'common': '科摩罗'}},\n",
       "  'latlng': [-12.16666666, 44.25],\n",
       "  'landlocked': False,\n",
       "  'area': 1862.0,\n",
       "  'demonyms': {'eng': {'f': 'Comoran', 'm': 'Comoran'},\n",
       "   'fra': {'f': 'Comorienne', 'm': 'Comorien'}},\n",
       "  'flag': '🇰🇲',\n",
       "  'maps': {'googleMaps': 'https://goo.gl/maps/eas4GP28C1GyStnu6',\n",
       "   'openStreetMaps': 'https://www.openstreetmap.org/relation/535790'},\n",
       "  'population': 869595,\n",
       "  'gini': {'2014': 45.3},\n",
       "  'fifa': 'COM',\n",
       "  'car': {'signs': ['COM'], 'side': 'right'},\n",
       "  'timezones': ['UTC+03:00'],\n",
       "  'continents': ['Africa'],\n",
       "  'flags': {'png': 'https://flagcdn.com/w320/km.png',\n",
       "   'svg': 'https://flagcdn.com/km.svg',\n",
       "   'alt': 'The flag of Comoros is composed of four equal horizontal bands of yellow, white, red and blue, with a green isosceles triangle superimposed on the hoist side of the field. This triangle has its base on the hoist end, spans about two-fifth the width of the field and bears a fly-side facing white crescent and four five-pointed white stars arranged in a vertical line along the opening of the crescent.'},\n",
       "  'coatOfArms': {'png': 'https://mainfacts.com/media/images/coats_of_arms/km.png',\n",
       "   'svg': 'https://mainfacts.com/media/images/coats_of_arms/km.svg'},\n",
       "  'startOfWeek': 'monday',\n",
       "  'capitalInfo': {'latlng': [-11.7, 43.23]}},\n",
       " {'name': {'common': 'Eswatini',\n",
       "   'official': 'Kingdom of Eswatini',\n",
       "   'nativeName': {'eng': {'official': 'Kingdom of Eswatini',\n",
       "     'common': 'Eswatini'},\n",
       "    'ssw': {'official': 'Umbuso weSwatini', 'common': 'eSwatini'}}},\n",
       "  'tld': ['.sz'],\n",
       "  'cca2': 'SZ',\n",
       "  'ccn3': '748',\n",
       "  'cca3': 'SWZ',\n",
       "  'cioc': 'SWZ',\n",
       "  'independent': True,\n",
       "  'status': 'officially-assigned',\n",
       "  'unMember': True,\n",
       "  'currencies': {'SZL': {'name': 'Swazi lilangeni', 'symbol': 'L'},\n",
       "   'ZAR': {'name': 'South African rand', 'symbol': 'R'}},\n",
       "  'idd': {'root': '+2', 'suffixes': ['68']},\n",
       "  'capital': ['Mbabane'],\n",
       "  'altSpellings': ['SZ',\n",
       "   'Swaziland',\n",
       "   'weSwatini',\n",
       "   'Swatini',\n",
       "   'Ngwane',\n",
       "   'Kingdom of Eswatini',\n",
       "   'Umbuso weSwatini'],\n",
       "  'region': 'Africa',\n",
       "  'subregion': 'Southern Africa',\n",
       "  'languages': {'eng': 'English', 'ssw': 'Swazi'},\n",
       "  'translations': {'ara': {'official': 'مملكة إسواتيني', 'common': 'إسواتيني'},\n",
       "   'bre': {'official': 'Rouantelezh Eswatini', 'common': 'Eswatini'},\n",
       "   'ces': {'official': 'Svazijské království', 'common': 'Svazijsko'},\n",
       "   'cym': {'official': 'Kingdom of Eswatini', 'common': 'Eswatini'},\n",
       "   'deu': {'official': 'Königreich Eswatini', 'common': 'Swasiland'},\n",
       "   'est': {'official': 'eSwatini Kuningriik', 'common': 'Svaasimaa'},\n",
       "   'fin': {'official': 'Swazimaan kuningaskunta', 'common': 'Swazimaa'},\n",
       "   'fra': {'official': 'Royaume d’Eswatini', 'common': 'Swaziland'},\n",
       "   'hrv': {'official': 'Kraljevina eSwatini', 'common': 'Svazi'},\n",
       "   'hun': {'official': 'Szváziföldi Királyság', 'common': 'Szváziföld'},\n",
       "   'ita': {'official': 'Regno di eSwatini', 'common': 'Swaziland'},\n",
       "   'jpn': {'official': 'スワジランド王国', 'common': 'スワジランド'},\n",
       "   'kor': {'official': '에스와티니 왕국', 'common': '에스와티니'},\n",
       "   'nld': {'official': 'Koninkrijk eSwatini', 'common': 'Swaziland'},\n",
       "   'per': {'official': 'پادشاهی سوازیلند', 'common': 'اسواتینی'},\n",
       "   'pol': {'official': 'Królestwo Suazi', 'common': 'Suazi'},\n",
       "   'por': {'official': 'Reino de eSwatini', 'common': 'Suazilândia'},\n",
       "   'rus': {'official': 'Королевство Свазиленд', 'common': 'Свазиленд'},\n",
       "   'slk': {'official': 'Svazijské kráľovstvo', 'common': 'Svazijsko'},\n",
       "   'spa': {'official': 'Reino de eSwatini', 'common': 'Suazilandia'},\n",
       "   'srp': {'official': 'Краљевина Есватини', 'common': 'Есватини'},\n",
       "   'swe': {'official': 'Konungariket Eswatini', 'common': 'Swaziland'},\n",
       "   'tur': {'official': 'Esvatini Krallığı', 'common': 'Esvatini'},\n",
       "   'urd': {'official': 'مملکتِ سوازی لینڈ', 'common': 'سوازی لینڈ'},\n",
       "   'zho': {'official': '斯威士兰王国', 'common': '斯威士兰'}},\n",
       "  'latlng': [-26.5, 31.5],\n",
       "  'landlocked': True,\n",
       "  'borders': ['MOZ', 'ZAF'],\n",
       "  'area': 17364.0,\n",
       "  'demonyms': {'eng': {'f': 'Swazi', 'm': 'Swazi'},\n",
       "   'fra': {'f': 'Swazie', 'm': 'Swazie'}},\n",
       "  'flag': '🇸🇿',\n",
       "  'maps': {'googleMaps': 'https://goo.gl/maps/cUY79eqQihFSE8hV6',\n",
       "   'openStreetMaps': 'https://www.openstreetmap.org/relation/88210'},\n",
       "  'population': 1160164,\n",
       "  'gini': {'2016': 54.6},\n",
       "  'fifa': 'SWZ',\n",
       "  'car': {'signs': ['SD'], 'side': 'left'},\n",
       "  'timezones': ['UTC+02:00'],\n",
       "  'continents': ['Africa'],\n",
       "  'flags': {'png': 'https://flagcdn.com/w320/sz.png',\n",
       "   'svg': 'https://flagcdn.com/sz.svg',\n",
       "   'alt': 'The flag of Eswatini is composed of three horizontal bands — a large central yellow-edged red band, and a light blue band above and beneath the red band. The red band is three times the height of the blue bands and bears a centered emblem made up of a large black and white Nguni shield covering two spears and a staff decorated with feather tassels, all placed horizontally.'},\n",
       "  'coatOfArms': {},\n",
       "  'startOfWeek': 'monday',\n",
       "  'capitalInfo': {'latlng': [-26.32, 31.13]},\n",
       "  'postalCode': {'format': '@###', 'regex': '^([A-Z]\\\\d{3})$'}}]"
      ]
     },
     "execution_count": 109,
     "metadata": {},
     "output_type": "execute_result"
    }
   ],
   "source": [
    "### buscar todos os paises que tenham a string 'zi' (vai encontrar zimbabwe, brazil , etc...)\n",
    "r = requests.get(base_url + 'name/zi')\n",
    "r.json()"
   ]
  },
  {
   "cell_type": "code",
   "execution_count": 110,
   "id": "635f71aa-1013-4233-a1de-6a38181a293c",
   "metadata": {},
   "outputs": [
    {
     "data": {
      "text/plain": [
       "[{'name': {'common': 'Zimbabwe',\n",
       "   'official': 'Republic of Zimbabwe',\n",
       "   'nativeName': {'bwg': {'official': 'Republic of Zimbabwe',\n",
       "     'common': 'Zimbabwe'},\n",
       "    'eng': {'official': 'Republic of Zimbabwe', 'common': 'Zimbabwe'},\n",
       "    'kck': {'official': 'Republic of Zimbabwe', 'common': 'Zimbabwe'},\n",
       "    'khi': {'official': 'Republic of Zimbabwe', 'common': 'Zimbabwe'},\n",
       "    'ndc': {'official': 'Republic of Zimbabwe', 'common': 'Zimbabwe'},\n",
       "    'nde': {'official': 'Republic of Zimbabwe', 'common': 'Zimbabwe'},\n",
       "    'nya': {'official': 'Republic of Zimbabwe', 'common': 'Zimbabwe'},\n",
       "    'sna': {'official': 'Republic of Zimbabwe', 'common': 'Zimbabwe'},\n",
       "    'sot': {'official': 'Republic of Zimbabwe', 'common': 'Zimbabwe'},\n",
       "    'toi': {'official': 'Republic of Zimbabwe', 'common': 'Zimbabwe'},\n",
       "    'tsn': {'official': 'Republic of Zimbabwe', 'common': 'Zimbabwe'},\n",
       "    'tso': {'official': 'Republic of Zimbabwe', 'common': 'Zimbabwe'},\n",
       "    'ven': {'official': 'Republic of Zimbabwe', 'common': 'Zimbabwe'},\n",
       "    'xho': {'official': 'Republic of Zimbabwe', 'common': 'Zimbabwe'},\n",
       "    'zib': {'official': 'Republic of Zimbabwe', 'common': 'Zimbabwe'}}}},\n",
       " {'name': {'common': 'Brazil',\n",
       "   'official': 'Federative Republic of Brazil',\n",
       "   'nativeName': {'por': {'official': 'República Federativa do Brasil',\n",
       "     'common': 'Brasil'}}}},\n",
       " {'name': {'common': 'Comoros',\n",
       "   'official': 'Union of the Comoros',\n",
       "   'nativeName': {'ara': {'official': 'الاتحاد القمري',\n",
       "     'common': 'القمر\\u200e'},\n",
       "    'fra': {'official': 'Union des Comores', 'common': 'Comores'},\n",
       "    'zdj': {'official': 'Udzima wa Komori', 'common': 'Komori'}}}},\n",
       " {'name': {'common': 'Eswatini',\n",
       "   'official': 'Kingdom of Eswatini',\n",
       "   'nativeName': {'eng': {'official': 'Kingdom of Eswatini',\n",
       "     'common': 'Eswatini'},\n",
       "    'ssw': {'official': 'Umbuso weSwatini', 'common': 'eSwatini'}}}}]"
      ]
     },
     "execution_count": 110,
     "metadata": {},
     "output_type": "execute_result"
    }
   ],
   "source": [
    "### buscar todos os paises que tenham a string 'zi'\n",
    "## e agora pedimos apenas o campo NOME\n",
    "r = requests.get(base_url + 'name/zi?fields=name')\n",
    "r.json()"
   ]
  },
  {
   "cell_type": "code",
   "execution_count": 111,
   "id": "32da0e73-0168-4957-a5af-0963ba05c6ae",
   "metadata": {},
   "outputs": [
    {
     "data": {
      "text/plain": [
       "[{'name': {'common': 'Zimbabwe',\n",
       "   'official': 'Republic of Zimbabwe',\n",
       "   'nativeName': {'bwg': {'official': 'Republic of Zimbabwe',\n",
       "     'common': 'Zimbabwe'},\n",
       "    'eng': {'official': 'Republic of Zimbabwe', 'common': 'Zimbabwe'},\n",
       "    'kck': {'official': 'Republic of Zimbabwe', 'common': 'Zimbabwe'},\n",
       "    'khi': {'official': 'Republic of Zimbabwe', 'common': 'Zimbabwe'},\n",
       "    'ndc': {'official': 'Republic of Zimbabwe', 'common': 'Zimbabwe'},\n",
       "    'nde': {'official': 'Republic of Zimbabwe', 'common': 'Zimbabwe'},\n",
       "    'nya': {'official': 'Republic of Zimbabwe', 'common': 'Zimbabwe'},\n",
       "    'sna': {'official': 'Republic of Zimbabwe', 'common': 'Zimbabwe'},\n",
       "    'sot': {'official': 'Republic of Zimbabwe', 'common': 'Zimbabwe'},\n",
       "    'toi': {'official': 'Republic of Zimbabwe', 'common': 'Zimbabwe'},\n",
       "    'tsn': {'official': 'Republic of Zimbabwe', 'common': 'Zimbabwe'},\n",
       "    'tso': {'official': 'Republic of Zimbabwe', 'common': 'Zimbabwe'},\n",
       "    'ven': {'official': 'Republic of Zimbabwe', 'common': 'Zimbabwe'},\n",
       "    'xho': {'official': 'Republic of Zimbabwe', 'common': 'Zimbabwe'},\n",
       "    'zib': {'official': 'Republic of Zimbabwe', 'common': 'Zimbabwe'}}},\n",
       "  'capital': ['Harare'],\n",
       "  'population': 14862927},\n",
       " {'name': {'common': 'Brazil',\n",
       "   'official': 'Federative Republic of Brazil',\n",
       "   'nativeName': {'por': {'official': 'República Federativa do Brasil',\n",
       "     'common': 'Brasil'}}},\n",
       "  'capital': ['Brasília'],\n",
       "  'population': 212559409},\n",
       " {'name': {'common': 'Comoros',\n",
       "   'official': 'Union of the Comoros',\n",
       "   'nativeName': {'ara': {'official': 'الاتحاد القمري',\n",
       "     'common': 'القمر\\u200e'},\n",
       "    'fra': {'official': 'Union des Comores', 'common': 'Comores'},\n",
       "    'zdj': {'official': 'Udzima wa Komori', 'common': 'Komori'}}},\n",
       "  'capital': ['Moroni'],\n",
       "  'population': 869595},\n",
       " {'name': {'common': 'Eswatini',\n",
       "   'official': 'Kingdom of Eswatini',\n",
       "   'nativeName': {'eng': {'official': 'Kingdom of Eswatini',\n",
       "     'common': 'Eswatini'},\n",
       "    'ssw': {'official': 'Umbuso weSwatini', 'common': 'eSwatini'}}},\n",
       "  'capital': ['Mbabane'],\n",
       "  'population': 1160164}]"
      ]
     },
     "execution_count": 111,
     "metadata": {},
     "output_type": "execute_result"
    }
   ],
   "source": [
    "### buscar todos os paises que tenham a string 'zi'\n",
    "## e agora pedimos uma listinha de parametros\n",
    "\n",
    "fields = {\n",
    "    'fields': 'name,capital,population'\n",
    "}\n",
    "r = requests.get(base_url + 'name/zi', params=fields)\n",
    "r.json()"
   ]
  },
  {
   "cell_type": "code",
   "execution_count": 58,
   "id": "2e721937-b480-4e1f-b283-7df76d07a0a7",
   "metadata": {},
   "outputs": [
    {
     "data": {
      "text/plain": [
       "[{'name': {'common': 'United Kingdom',\n",
       "   'official': 'United Kingdom of Great Britain and Northern Ireland',\n",
       "   'nativeName': {'eng': {'official': 'United Kingdom of Great Britain and Northern Ireland',\n",
       "     'common': 'United Kingdom'}}},\n",
       "  'currencies': {'GBP': {'name': 'British pound', 'symbol': '£'}}}]"
      ]
     },
     "execution_count": 58,
     "metadata": {},
     "output_type": "execute_result"
    }
   ],
   "source": [
    "### buscar capital\n",
    "\n",
    "fields = {\n",
    "    'fields': 'name,currencies'\n",
    "}\n",
    "r = requests.get(base_url + 'capital/london', params=fields)\n",
    "r.json()"
   ]
  },
  {
   "cell_type": "code",
   "execution_count": 98,
   "id": "94963aa3-b6da-4d46-926b-56bd9fe0ad8b",
   "metadata": {},
   "outputs": [],
   "source": [
    "#### PROJETINHO COM ESSA API DE PAISES #####"
   ]
  },
  {
   "cell_type": "code",
   "execution_count": 93,
   "id": "5ab38fbc-b0f9-4f46-a934-1eea8150f25c",
   "metadata": {},
   "outputs": [],
   "source": [
    "### qual pais vc quer as infos?\n",
    "pais_desejado = 'Brazil'\n",
    "\n",
    "\n",
    "## qual informacao vc quer receber?\n",
    "# 1. Populacao\n",
    "# 2. Lingua\n",
    "# 3. Timezone\n",
    "info_desejada = 1\n",
    "\n"
   ]
  },
  {
   "cell_type": "code",
   "execution_count": 95,
   "id": "6f67279e-0ab0-4b63-8f4f-490a5d6eb913",
   "metadata": {},
   "outputs": [],
   "source": [
    "params = {}\n",
    "\n",
    "if info_desejada == 1:\n",
    "    params['fields'] = 'population'\n",
    "elif info_desejada == 2:\n",
    "    params['fields'] = 'languages'\n",
    "else:\n",
    "    params['fields'] = 'timezones'"
   ]
  },
  {
   "cell_type": "code",
   "execution_count": 97,
   "id": "d3ee10cb-f853-4430-962f-121a0985ecf9",
   "metadata": {},
   "outputs": [
    {
     "name": "stdout",
     "output_type": "stream",
     "text": [
      "No pais Brazil, a populacao é de 212559409 habitantes\n"
     ]
    }
   ],
   "source": [
    "base_url = 'https://restcountries.com/v3.1/'\n",
    "r = requests.get(base_url + 'name/{}'.format(pais_desejado), params=params)\n",
    "\n",
    "\n",
    "if info_desejada == 1:\n",
    "    print('No pais {}, a populacao é de {} habitantes'.format(pais_desejado, r.json()[0]['population']))\n",
    "elif info_desejada == 2:\n",
    "    print('No pais {}, a(s) lingua(s) é(sao)  {}'.format(pais_desejado, r.json()[0]['languages']))\n",
    "else:\n",
    "    print('No pais {}, o(s) timezone(s) é(sao)  {}'.format(pais_desejado, r.json()[0]['timezones']))"
   ]
  },
  {
   "cell_type": "code",
   "execution_count": null,
   "id": "a1716d51-eb83-45d4-bcee-ef3f1cfb9588",
   "metadata": {},
   "outputs": [],
   "source": []
  },
  {
   "cell_type": "code",
   "execution_count": null,
   "id": "37389292-88ee-428d-a75e-3d6c0bf1439a",
   "metadata": {},
   "outputs": [],
   "source": []
  }
 ],
 "metadata": {
  "kernelspec": {
   "display_name": "Python 3 (ipykernel)",
   "language": "python",
   "name": "python3"
  },
  "language_info": {
   "codemirror_mode": {
    "name": "ipython",
    "version": 3
   },
   "file_extension": ".py",
   "mimetype": "text/x-python",
   "name": "python",
   "nbconvert_exporter": "python",
   "pygments_lexer": "ipython3",
   "version": "3.10.2"
  }
 },
 "nbformat": 4,
 "nbformat_minor": 5
}
